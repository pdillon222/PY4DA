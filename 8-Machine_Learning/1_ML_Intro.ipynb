{
 "cells": [
  {
   "cell_type": "markdown",
   "metadata": {
    "collapsed": false
   },
   "source": [
    "<h1 style=\"font-family:Courier;font-size:40px;\">Machine Learning Intro</h1>\n",
    "$\\sum_{i=0}^n i^2 = \\frac{(n^2+n)(2n+1)}{6}$ $\\sum_{i=0}^n i^2 = \\frac{(n^2+n)(2n+1)}{6}$ $\\sum_{i=0}^n i^2 = \\frac{(n^2+n)(2n+1)}{6}$"
   ]
  },
  {
   "cell_type": "markdown",
   "metadata": {
    "collapsed": true
   },
   "source": [
    "<h1 style=\"font-family:Courier;font-size:20px;\">Machine Learning Links</h1>\n",
    "<ul>\n",
    "    <li><a href=\"http://scikit-learn.org/stable/\">SciKit Learn Main Page</a></li>\n",
    "    <li><a href=\"http://www.astroml.org/sklearn_tutorial/general_concepts.html\">SciKit Learn Tutorials</a></li>\n",
    "    <li><a href=\"https://www.toptal.com/machine-learning/machine-learning-theory-an-introductory-primer\">Toptal Visual Intro</a></li>\n",
    "    <li><a href=\"http://robotics.stanford.edu/people/nilsson/MLBOOK.pdf\">Intro to ML - Nils J. Nilsson</a></li>\n",
    "    <li><a href=\"http://cs229.stanford.edu/materials.html\">Andrew Ng's CS229 Course Notes</a></li>\n",
    "</ul>\n"
   ]
  },
  {
   "cell_type": "markdown",
   "metadata": {},
   "source": [
    "<h1 style=\"font-family:Courier;font-size:30px;\">Supervised Learning</h1>\n",
    "*We have a dataset consisting of both features and labels.  The task is to construct an estimator which is able to predict the label of an object given the set of features. <br><hr>\n",
    "*Supervised learing is divided into two categories:\n",
    "<ol>\n",
    "    <li>Regression</li>\n",
    "    <li>Classification</li>\n",
    "</ol>"
   ]
  },
  {
   "cell_type": "markdown",
   "metadata": {},
   "source": [
    "<h1 style=\"font-family:Courier;font-size:20px;\">Classification</h1>\n",
    "<ul>\n",
    "    <li>Classification is discrete, meaning an example belongs to precisely one class, and the set of classes covers the whole possible output space.</li>\n",
    "    <li>Example: Classifying a tumor as either malignant of benign based on input data.</li>\n",
    "</ul>"
   ]
  },
  {
   "cell_type": "markdown",
   "metadata": {},
   "source": [
    "<h1 style=\"font-family:Courier;font-size:20px;\">Regression</h1>\n",
    "<ul>\n",
    "    <li>Given some data, the machine assumes that those values come from some sort of function and attempts to find out what the function is.  It tries to fit a mathematical function that describes a curve, such that the curve passes as close as possible to all the data points</li>\n",
    "    <li>Example: Predicting house prices based on input data</li>\n",
    "</ul>"
   ]
  },
  {
   "cell_type": "markdown",
   "metadata": {},
   "source": [
    "<h1 style=\"font-family:Courier;font-size:30px;\">Unsupervised Learning</h1>\n",
    "*Unsupervised learning addresses a different sor of problem.  Here the data has no labels, and we are interested in finding similarities between the objects in question.  In a sense, you can think of unsupervised learning as a means of discovering labels from the data itself<br>\n",
    "*<strong>Example</strong>: Given a mixture of sound sources, try to separate the sources of each particular sound."
   ]
  },
  {
   "cell_type": "code",
   "execution_count": null,
   "metadata": {
    "collapsed": true
   },
   "outputs": [],
   "source": []
  }
 ],
 "metadata": {
  "kernelspec": {
   "display_name": "Python [default]",
   "language": "python",
   "name": "python3"
  },
  "language_info": {
   "codemirror_mode": {
    "name": "ipython",
    "version": 3
   },
   "file_extension": ".py",
   "mimetype": "text/x-python",
   "name": "python",
   "nbconvert_exporter": "python",
   "pygments_lexer": "ipython3",
   "version": "3.5.2"
  }
 },
 "nbformat": 4,
 "nbformat_minor": 1
}
